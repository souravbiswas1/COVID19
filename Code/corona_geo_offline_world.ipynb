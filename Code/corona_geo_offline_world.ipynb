{
 "cells": [
  {
   "cell_type": "code",
   "execution_count": 1,
   "metadata": {
    "scrolled": false
   },
   "outputs": [
    {
     "data": {
      "text/html": [
       "        <script type=\"text/javascript\">\n",
       "        window.PlotlyConfig = {MathJaxConfig: 'local'};\n",
       "        if (window.MathJax) {MathJax.Hub.Config({SVG: {font: \"STIX-Web\"}});}\n",
       "        if (typeof require !== 'undefined') {\n",
       "        require.undef(\"plotly\");\n",
       "        requirejs.config({\n",
       "            paths: {\n",
       "                'plotly': ['https://cdn.plot.ly/plotly-latest.min']\n",
       "            }\n",
       "        });\n",
       "        require(['plotly'], function(Plotly) {\n",
       "            window._Plotly = Plotly;\n",
       "        });\n",
       "        }\n",
       "        </script>\n",
       "        "
      ]
     },
     "metadata": {},
     "output_type": "display_data"
    },
    {
     "name": "stderr",
     "output_type": "stream",
     "text": [
      "C:\\Users\\admin\\anaconda3\\lib\\site-packages\\ipykernel_launcher.py:41: FutureWarning:\n",
      "\n",
      "Indexing with multiple keys (implicitly converted to a tuple of keys) will be deprecated, use a list instead.\n",
      "\n"
     ]
    },
    {
     "data": {
      "text/plain": [
       "'Covid-19_map.html'"
      ]
     },
     "execution_count": 1,
     "metadata": {},
     "output_type": "execute_result"
    }
   ],
   "source": [
    "import chart_studio.plotly as pl\n",
    "import plotly.graph_objs as gobj\n",
    "import pandas as pd\n",
    "import plotly\n",
    "import os\n",
    "from datetime import date\n",
    "from datetime import datetime\n",
    "from datetime import timedelta\n",
    "from urllib.parse import unquote\n",
    "from plotly.offline import download_plotlyjs,init_notebook_mode,plot,iplot\n",
    "init_notebook_mode(connected=True)\n",
    "os.chdir(r'C:\\Users\\admin\\Documents\\Sourav\\Code\\RnD\\Corona')\n",
    "\n",
    "\n",
    "confirmed_df = pd.read_csv(unquote('https://data.humdata.org/hxlproxy/api/data-preview.csv?url=https%3A%2F%2Fraw.githubusercontent.com%2FCSSEGISandData%2FCOVID-19%2Fmaster%2Fcsse_covid_19_data%2Fcsse_covid_19_time_series%2Ftime_series_covid19_confirmed_global.csv&filename=time_series_covid19_confirmed_global.csv'))\n",
    "# confirmed_df = pd.read_csv('time_series_covid19_confirmed_global.csv')\n",
    "del confirmed_df['Province/State']\n",
    "confirmed_df.rename(columns={\"Country/Region\": \"Country\"},inplace=True)\n",
    "confirmed_df = pd.melt(confirmed_df,id_vars=['Country','Lat','Long'], var_name='Day', value_name='ConfirmedCount')\n",
    "\n",
    "\n",
    "recovered_df = pd.read_csv(unquote('https://data.humdata.org/hxlproxy/api/data-preview.csv?url=https%3A%2F%2Fraw.githubusercontent.com%2FCSSEGISandData%2FCOVID-19%2Fmaster%2Fcsse_covid_19_data%2Fcsse_covid_19_time_series%2Ftime_series_covid19_recovered_global.csv&filename=time_series_covid19_recovered_global.csv'))\n",
    "# recovered_df = pd.read_csv('time_series_covid19_recovered_global.csv')\n",
    "del recovered_df['Province/State']\n",
    "recovered_df.rename(columns={\"Country/Region\": \"Country\"},inplace=True)\n",
    "recovered_df = pd.melt(recovered_df,id_vars=['Country','Lat','Long'], var_name='Day', value_name='RecoveredCount')\n",
    "\n",
    "\n",
    "death_df = pd.read_csv(unquote('https://data.humdata.org/hxlproxy/api/data-preview.csv?url=https%3A%2F%2Fraw.githubusercontent.com%2FCSSEGISandData%2FCOVID-19%2Fmaster%2Fcsse_covid_19_data%2Fcsse_covid_19_time_series%2Ftime_series_covid19_deaths_global.csv&filename=time_series_covid19_deaths_global.csv'))\n",
    "# death_df = pd.read_csv('time_series_covid19_deaths_global.csv')\n",
    "del death_df['Province/State']\n",
    "death_df.rename(columns={\"Country/Region\": \"Country\"},inplace=True)\n",
    "death_df = pd.melt(death_df,id_vars=['Country','Lat','Long'], var_name='Day', value_name='DeathCount')\n",
    "\n",
    "finaldf = confirmed_df.merge(recovered_df,on=[\"Country\",'Lat','Long','Day'],how='left').merge(death_df,on=[\"Country\",'Lat','Long','Day'],how='left')\n",
    "\n",
    "del finaldf['Lat']\n",
    "del finaldf['Long']\n",
    "\n",
    "finaldf['Day'] = pd.to_datetime(finaldf['Day'])\n",
    "group_df = finaldf.groupby(['Country','Day'])['ConfirmedCount','RecoveredCount','DeathCount'].sum().reset_index().sort_values('Country')\n",
    "# group_df = group_df[group_df['Day'] == '2020-04-14']\n",
    "# group_df['RecoveredCount'] = group_df['RecoveredCount'].astype(int)\n",
    "# canada_df = group_df.loc[group_df['Country']=='Canada']\n",
    "\n",
    "# Subtracting 1 day from current date---\n",
    "dateTimeObj = datetime.now() - timedelta(days=1)\n",
    "\n",
    "# Converting datetime type to date type---\n",
    "# y = x.date()\n",
    "\n",
    "timestampStr = dateTimeObj.strftime(\"%Y-%m-%d\")\n",
    "\n",
    "# for col in group_df.columns:\n",
    "#     group_df[col] = group_df[col].astype(str)\n",
    "\n",
    "group = group_df.loc[(group_df['Day'] == timestampStr)].reset_index()\n",
    "\n",
    "\n",
    "group['text'] = 'Confirmed : '+ group['ConfirmedCount'].astype(str) + ','+ '<br>' + \\\n",
    "'Recovered : '+ group['RecoveredCount'].astype(str) + ','+ '<br>' + \\\n",
    "'As on : ' + group['Day'].astype(str)\n",
    "\n",
    "\n",
    "data  = dict(type = 'choropleth',\n",
    "              autocolorscale = False,\n",
    "              locations = group['Country'].tolist(),\n",
    "              z = group['DeathCount'].tolist(),\n",
    "              locationmode = 'country names',\n",
    "              text = group['text'].tolist(),\n",
    "              colorscale = 'Rainbow',\n",
    "              colorbar = {'title':'No of deaths','len':350,'lenmode':'pixels' })\n",
    "\n",
    "#initializing the layout variable\n",
    "layout = dict(title = 'Corona death analysis across the world as on ' + timestampStr, geo = {'scope':'world'})\n",
    "\n",
    "# Initializing the Figure object by passing data and layout as arguments.\n",
    "col_map = gobj.Figure(data = [data],layout = layout)\n",
    "plotly.offline.plot(col_map, filename='Covid-19_map.html')\n",
    "# pl.iplot(col_map, filename = 'Choropleth-map.html')\n",
    "# iplot(col_map)"
   ]
  },
  {
   "cell_type": "code",
   "execution_count": null,
   "metadata": {},
   "outputs": [],
   "source": [
    "# type : ‘choropleth’ specifies that we are plotting a choropleth map.\n",
    "# locations : The names of countries we want to plot.\n",
    "# locationmode : It specifies that the plotting level is country wise. The value can be one of 3,-“ISO-3” , “USA-states” , “country names”.\n",
    "# colorscale : The colour set used to plot the map.Available color scales are ‘Greys’, ‘YlGnBu’, ‘Greens’, ‘YlOrRd’, ‘Bluered’, ‘RdBu’, ‘Reds’, ‘Blues’, ‘Picnic’, ‘Rainbow’, ‘Portland’, ‘Jet’, ‘Hot’, ‘Blackbody’, ‘Earth’, ‘Electric’, ‘Viridis’, ‘Cividis’\n",
    "# text: The textual information that needs to be displayed for each country on hover. \n",
    "# z: The value or factor that is used to distinguish the countries. These values are used by the colour scale.\n",
    "# colorbar: A dictionary of parameters and arguments to customize the display of colorbar.Used to control the properties of the colorbar such as length, title, axis etc.\n",
    "# geo: The parameter sets the properties of the map layout. The scope parameter sets the scope of the map. Scope can have any of the 7 values- “world” | “usa” | “europe” | “asia” | “africa” | “north america” | “south america” ."
   ]
  }
 ],
 "metadata": {
  "kernelspec": {
   "display_name": "Python 3",
   "language": "python",
   "name": "python3"
  },
  "language_info": {
   "codemirror_mode": {
    "name": "ipython",
    "version": 3
   },
   "file_extension": ".py",
   "mimetype": "text/x-python",
   "name": "python",
   "nbconvert_exporter": "python",
   "pygments_lexer": "ipython3",
   "version": "3.7.6"
  }
 },
 "nbformat": 4,
 "nbformat_minor": 4
}
